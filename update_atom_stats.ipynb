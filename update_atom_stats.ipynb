{
 "cells": [
  {
   "cell_type": "markdown",
   "id": "79adab75",
   "metadata": {},
   "source": [
    "# Atom-Stats Directory Structure Update Tool\n",
    "This notebook provides functionality to modify the Atom-Stats directory structure, update documentation progress, and generate Git commit messages."
   ]
  },
  {
   "cell_type": "code",
   "execution_count": null,
   "id": "cf342c3b",
   "metadata": {},
   "outputs": [],
   "source": [
    "# Import required libraries\n",
    "import os\n",
    "import shutil\n",
    "from git import Repo\n",
    "import datetime"
   ]
  },
  {
   "cell_type": "markdown",
   "id": "c0be9d11",
   "metadata": {},
   "source": [
    "## Locating Atom-Stats Directory\n",
    "We'll first set up the path to the Atom-Stats directory and verify its existence."
   ]
  },
  {
   "cell_type": "code",
   "execution_count": null,
   "id": "1389f426",
   "metadata": {},
   "outputs": [],
   "source": [
    "# Define the path to Atom-Stats directory\n",
    "ATOM_STATS_DIR = os.path.join(os.path.dirname(os.getcwd()), \"Atom-Stats\")\n",
    "\n",
    "# Verify directory exists\n",
    "if not os.path.exists(ATOM_STATS_DIR):\n",
    "    raise FileNotFoundError(\"Atom-Stats directory not found\")\n",
    "\n",
    "print(f\"Atom-Stats directory found at: {ATOM_STATS_DIR}\")"
   ]
  },
  {
   "cell_type": "markdown",
   "id": "3f3bcc70",
   "metadata": {},
   "source": [
    "## File Modification Functions\n",
    "Functions to handle file modifications in the Atom-Stats directory."
   ]
  },
  {
   "cell_type": "code",
   "execution_count": null,
   "id": "295a02a0",
   "metadata": {},
   "outputs": [],
   "source": [
    "def modify_files(directory, changes):\n",
    "    \"\"\"\n",
    "    Modify files according to suggested changes\n",
    "    \n",
    "    Args:\n",
    "        directory (str): Base directory path\n",
    "        changes (dict): Dictionary of file paths and their modifications\n",
    "    \"\"\"\n",
    "    for file_path, modification in changes.items():\n",
    "        full_path = os.path.join(directory, file_path)\n",
    "        if os.path.exists(full_path):\n",
    "            with open(full_path, 'r') as f:\n",
    "                content = f.read()\n",
    "            # Apply modifications\n",
    "            modified_content = apply_changes(content, modification)\n",
    "            with open(full_path, 'w') as f:\n",
    "                f.write(modified_content)"
   ]
  },
  {
   "cell_type": "markdown",
   "id": "1de26011",
   "metadata": {},
   "source": [
    "## Documentation Update Functions\n",
    "Functions to update development progress documentation."
   ]
  },
  {
   "cell_type": "code",
   "execution_count": null,
   "id": "c47ed7b0",
   "metadata": {},
   "outputs": [],
   "source": [
    "def update_documentation(doc_path, changes):\n",
    "    \"\"\"\n",
    "    Update development progress documentation\n",
    "    \n",
    "    Args:\n",
    "        doc_path (str): Path to documentation file\n",
    "        changes (dict): Changes made to the codebase\n",
    "    \"\"\"\n",
    "    timestamp = datetime.datetime.now().strftime(\"%Y-%m-%d %H:%M:%S\")\n",
    "    \n",
    "    with open(doc_path, 'a') as f:\n",
    "        f.write(f\"\\n## Update: {timestamp}\\n\")\n",
    "        for file, modification in changes.items():\n",
    "            f.write(f\"- Modified: {file}\\n\")\n",
    "            f.write(f\"  - Changes: {modification}\\n\")"
   ]
  },
  {
   "cell_type": "markdown",
   "id": "57f99c27",
   "metadata": {},
   "source": [
    "## Git Operations\n",
    "Functions to handle Git operations and commit message generation."
   ]
  },
  {
   "cell_type": "code",
   "execution_count": null,
   "id": "5c1cfaed",
   "metadata": {},
   "outputs": [],
   "source": [
    "def generate_commit_message(changes):\n",
    "    \"\"\"\n",
    "    Generate Git commit message based on changes\n",
    "    \n",
    "    Args:\n",
    "        changes (dict): Dictionary of changes made\n",
    "    Returns:\n",
    "        str: Formatted commit message\n",
    "    \"\"\"\n",
    "    message = \"Update Atom-Stats Structure\\n\\n\"\n",
    "    for file, modification in changes.items():\n",
    "        message += f\"- {file}: {modification}\\n\"\n",
    "    return message\n",
    "\n",
    "def commit_changes(repo_path, commit_message):\n",
    "    \"\"\"\n",
    "    Commit changes to Git repository\n",
    "    \n",
    "    Args:\n",
    "        repo_path (str): Path to Git repository\n",
    "        commit_message (str): Commit message\n",
    "    \"\"\"\n",
    "    repo = Repo(repo_path)\n",
    "    repo.index.add('*')\n",
    "    repo.index.commit(commit_message)"
   ]
  },
  {
   "cell_type": "markdown",
   "id": "e44e9ff0",
   "metadata": {},
   "source": [
    "## Main Execution\n",
    "Combine all functions to execute the complete workflow."
   ]
  },
  {
   "cell_type": "code",
   "execution_count": null,
   "id": "a6e8168c",
   "metadata": {},
   "outputs": [],
   "source": [
    "def main():\n",
    "    # Example changes to be made\n",
    "    changes = {\n",
    "        'src/analysis.py': 'Updated analysis logic',\n",
    "        'docs/README.md': 'Updated documentation'\n",
    "    }\n",
    "    \n",
    "    # Modify files\n",
    "    modify_files(ATOM_STATS_DIR, changes)\n",
    "    \n",
    "    # Update documentation\n",
    "    doc_path = os.path.join(ATOM_STATS_DIR, 'docs/progress.md')\n",
    "    update_documentation(doc_path, changes)\n",
    "    \n",
    "    # Generate and make Git commit\n",
    "    commit_message = generate_commit_message(changes)\n",
    "    commit_changes(ATOM_STATS_DIR, commit_message)\n",
    "    \n",
    "    print(\"Updates completed successfully!\")\n",
    "\n",
    "if __name__ == \"__main__\":\n",
    "    main()"
   ]
  }
 ],
 "metadata": {
  "language_info": {
   "name": "python"
  }
 },
 "nbformat": 4,
 "nbformat_minor": 5
}
